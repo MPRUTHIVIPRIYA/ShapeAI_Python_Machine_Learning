{
  "nbformat": 4,
  "nbformat_minor": 0,
  "metadata": {
    "colab": {
      "name": "Copy of miniproject.ipynb",
      "provenance": [],
      "collapsed_sections": [],
      "authorship_tag": "ABX9TyPxaJA78GR9Gn1tfA2T4xA5",
      "include_colab_link": true
    },
    "kernelspec": {
      "name": "python3",
      "display_name": "Python 3"
    },
    "language_info": {
      "name": "python"
    }
  },
  "cells": [
    {
      "cell_type": "markdown",
      "metadata": {
        "id": "view-in-github",
        "colab_type": "text"
      },
      "source": [
        "<a href=\"https://colab.research.google.com/github/MPRUTHIVIPRIYA/ShapeAI_Python_Machine_Learning/blob/main/Copy_of_miniproject.ipynb\" target=\"_parent\"><img src=\"https://colab.research.google.com/assets/colab-badge.svg\" alt=\"Open In Colab\"/></a>"
      ]
    },
    {
      "cell_type": "code",
      "metadata": {
        "colab": {
          "base_uri": "https://localhost:8080/",
          "height": 417
        },
        "id": "aKIQ0xYUFNjI",
        "outputId": "178da206-d232-4791-a739-91a29fe8cefb"
      },
      "source": [
        "import pandas as pd\n",
        "import matplotlib.pyplot as plt\n",
        "\n",
        "df=pd.read_csv(\"/content/Iris (1) (1).csv\")\n",
        "df"
      ],
      "execution_count": null,
      "outputs": [
        {
          "output_type": "execute_result",
          "data": {
            "text/html": [
              "<div>\n",
              "<style scoped>\n",
              "    .dataframe tbody tr th:only-of-type {\n",
              "        vertical-align: middle;\n",
              "    }\n",
              "\n",
              "    .dataframe tbody tr th {\n",
              "        vertical-align: top;\n",
              "    }\n",
              "\n",
              "    .dataframe thead th {\n",
              "        text-align: right;\n",
              "    }\n",
              "</style>\n",
              "<table border=\"1\" class=\"dataframe\">\n",
              "  <thead>\n",
              "    <tr style=\"text-align: right;\">\n",
              "      <th></th>\n",
              "      <th>Id</th>\n",
              "      <th>SepalLengthCm</th>\n",
              "      <th>SepalWidthCm</th>\n",
              "      <th>PetalLengthCm</th>\n",
              "      <th>PetalWidthCm</th>\n",
              "      <th>Species</th>\n",
              "    </tr>\n",
              "  </thead>\n",
              "  <tbody>\n",
              "    <tr>\n",
              "      <th>0</th>\n",
              "      <td>1</td>\n",
              "      <td>5.1</td>\n",
              "      <td>3.5</td>\n",
              "      <td>1.4</td>\n",
              "      <td>0.2</td>\n",
              "      <td>Iris-setosa</td>\n",
              "    </tr>\n",
              "    <tr>\n",
              "      <th>1</th>\n",
              "      <td>2</td>\n",
              "      <td>4.9</td>\n",
              "      <td>3.0</td>\n",
              "      <td>1.4</td>\n",
              "      <td>0.2</td>\n",
              "      <td>Iris-setosa</td>\n",
              "    </tr>\n",
              "    <tr>\n",
              "      <th>2</th>\n",
              "      <td>3</td>\n",
              "      <td>4.7</td>\n",
              "      <td>3.2</td>\n",
              "      <td>1.3</td>\n",
              "      <td>0.2</td>\n",
              "      <td>Iris-setosa</td>\n",
              "    </tr>\n",
              "    <tr>\n",
              "      <th>3</th>\n",
              "      <td>4</td>\n",
              "      <td>4.6</td>\n",
              "      <td>3.1</td>\n",
              "      <td>1.5</td>\n",
              "      <td>0.2</td>\n",
              "      <td>Iris-setosa</td>\n",
              "    </tr>\n",
              "    <tr>\n",
              "      <th>4</th>\n",
              "      <td>5</td>\n",
              "      <td>5.0</td>\n",
              "      <td>3.6</td>\n",
              "      <td>1.4</td>\n",
              "      <td>0.2</td>\n",
              "      <td>Iris-setosa</td>\n",
              "    </tr>\n",
              "    <tr>\n",
              "      <th>...</th>\n",
              "      <td>...</td>\n",
              "      <td>...</td>\n",
              "      <td>...</td>\n",
              "      <td>...</td>\n",
              "      <td>...</td>\n",
              "      <td>...</td>\n",
              "    </tr>\n",
              "    <tr>\n",
              "      <th>145</th>\n",
              "      <td>146</td>\n",
              "      <td>6.7</td>\n",
              "      <td>3.0</td>\n",
              "      <td>5.2</td>\n",
              "      <td>2.3</td>\n",
              "      <td>Iris-virginica</td>\n",
              "    </tr>\n",
              "    <tr>\n",
              "      <th>146</th>\n",
              "      <td>147</td>\n",
              "      <td>6.3</td>\n",
              "      <td>2.5</td>\n",
              "      <td>5.0</td>\n",
              "      <td>1.9</td>\n",
              "      <td>Iris-virginica</td>\n",
              "    </tr>\n",
              "    <tr>\n",
              "      <th>147</th>\n",
              "      <td>148</td>\n",
              "      <td>6.5</td>\n",
              "      <td>3.0</td>\n",
              "      <td>5.2</td>\n",
              "      <td>2.0</td>\n",
              "      <td>Iris-virginica</td>\n",
              "    </tr>\n",
              "    <tr>\n",
              "      <th>148</th>\n",
              "      <td>149</td>\n",
              "      <td>6.2</td>\n",
              "      <td>3.4</td>\n",
              "      <td>5.4</td>\n",
              "      <td>2.3</td>\n",
              "      <td>Iris-virginica</td>\n",
              "    </tr>\n",
              "    <tr>\n",
              "      <th>149</th>\n",
              "      <td>150</td>\n",
              "      <td>5.9</td>\n",
              "      <td>3.0</td>\n",
              "      <td>5.1</td>\n",
              "      <td>1.8</td>\n",
              "      <td>Iris-virginica</td>\n",
              "    </tr>\n",
              "  </tbody>\n",
              "</table>\n",
              "<p>150 rows × 6 columns</p>\n",
              "</div>"
            ],
            "text/plain": [
              "      Id  SepalLengthCm  ...  PetalWidthCm         Species\n",
              "0      1            5.1  ...           0.2     Iris-setosa\n",
              "1      2            4.9  ...           0.2     Iris-setosa\n",
              "2      3            4.7  ...           0.2     Iris-setosa\n",
              "3      4            4.6  ...           0.2     Iris-setosa\n",
              "4      5            5.0  ...           0.2     Iris-setosa\n",
              "..   ...            ...  ...           ...             ...\n",
              "145  146            6.7  ...           2.3  Iris-virginica\n",
              "146  147            6.3  ...           1.9  Iris-virginica\n",
              "147  148            6.5  ...           2.0  Iris-virginica\n",
              "148  149            6.2  ...           2.3  Iris-virginica\n",
              "149  150            5.9  ...           1.8  Iris-virginica\n",
              "\n",
              "[150 rows x 6 columns]"
            ]
          },
          "metadata": {
            "tags": []
          },
          "execution_count": 29
        }
      ]
    },
    {
      "cell_type": "code",
      "metadata": {
        "id": "0AL16SAdFeAF"
      },
      "source": [
        "x=df.iloc[:,:-1].values\n"
      ],
      "execution_count": null,
      "outputs": []
    },
    {
      "cell_type": "code",
      "metadata": {
        "id": "b_F1mfsTFmjB"
      },
      "source": [
        "y=df.iloc[:,-1].values"
      ],
      "execution_count": null,
      "outputs": []
    },
    {
      "cell_type": "code",
      "metadata": {
        "colab": {
          "base_uri": "https://localhost:8080/",
          "height": 458
        },
        "id": "gOPJxd2jW8dU",
        "outputId": "15067a54-b59e-4204-e245-fcbf2cbbd82b"
      },
      "source": [
        "\n",
        "import seaborn as sns\n",
        " \n",
        "\n",
        "df= sns.load_dataset('iris')\n",
        " \n",
        "# style used as a theme of graph \n",
        "# for example if we want black \n",
        "# graph with grid then write \"darkgrid\"\n",
        "\n",
        "sns.set_style(\"whitegrid\")\n",
        " \n",
        "# sepal_length, petal_length are iris\n",
        "# feature data height used to define\n",
        "# Height of graph whereas hue store the\n",
        "# class of iris dataset.\n",
        "\n",
        "sns.FacetGrid(df, hue =\"species\", \n",
        "\n",
        "              height = 6).map(plt.scatter,\n",
        "                              'sepal_length', \n",
        "\n",
        "                              'petal_length').add_legend()"
      ],
      "execution_count": null,
      "outputs": [
        {
          "output_type": "execute_result",
          "data": {
            "text/plain": [
              "<seaborn.axisgrid.FacetGrid at 0x7fa27c243d90>"
            ]
          },
          "metadata": {
            "tags": []
          },
          "execution_count": 32
        },
        {
          "output_type": "display_data",
          "data": {
            "image/png": "[encoded data removed]",
            "text/plain": [
              "<Figure size 516.75x432 with 1 Axes>"
            ]
          },
          "metadata": {
            "tags": []
          }
        }
      ]
    },
    {
      "cell_type": "code",
      "metadata": {
        "id": "07sG25UpHgd-"
      },
      "source": [
        "from sklearn.model_selection import train_test_split\n",
        "x_train, x_test, y_train, y_test = train_test_split(x, y, test_size = 0.2, random_state = 0)\n"
      ],
      "execution_count": null,
      "outputs": []
    },
    {
      "cell_type": "code",
      "metadata": {
        "id": "rkcR5Lt7QXG6"
      },
      "source": [
        "#USING KNN ALGORITHM\n",
        "from sklearn.neighbors import KNeighborsClassifier"
      ],
      "execution_count": null,
      "outputs": []
    },
    {
      "cell_type": "code",
      "metadata": {
        "id": "sR8XnFcVMArj"
      },
      "source": [
        "knn = KNeighborsClassifier()"
      ],
      "execution_count": null,
      "outputs": []
    },
    {
      "cell_type": "code",
      "metadata": {
        "colab": {
          "base_uri": "https://localhost:8080/"
        },
        "id": "geOkrdFnIp3U",
        "outputId": "15a6c000-80ed-4639-eac3-8c507536ce85"
      },
      "source": [
        "knn.fit(x_train, y_train)\n"
      ],
      "execution_count": null,
      "outputs": [
        {
          "output_type": "execute_result",
          "data": {
            "text/plain": [
              "KNeighborsClassifier(algorithm='auto', leaf_size=30, metric='minkowski',\n",
              "                     metric_params=None, n_jobs=None, n_neighbors=5, p=2,\n",
              "                     weights='uniform')"
            ]
          },
          "metadata": {
            "tags": []
          },
          "execution_count": 38
        }
      ]
    },
    {
      "cell_type": "code",
      "metadata": {
        "id": "7n5ocfThI63z"
      },
      "source": [
        "\n",
        "y_pred = knn.predict(x_test)\n",
        "\n"
      ],
      "execution_count": null,
      "outputs": []
    },
    {
      "cell_type": "code",
      "metadata": {
        "colab": {
          "base_uri": "https://localhost:8080/"
        },
        "id": "sCsWhf4CJBef",
        "outputId": "3a52608f-0f27-4bb7-ecb6-20cc890b9c4e"
      },
      "source": [
        "from sklearn.metrics import confusion_matrix,accuracy_score\n",
        "confusion_matrix(y_test,y_pred)\n",
        "# Accuracy score\n",
        "from sklearn.metrics import accuracy_score\n",
        "print('accuracy is',accuracy_score(y_pred,y_test))"
      ],
      "execution_count": null,
      "outputs": [
        {
          "output_type": "stream",
          "text": [
            "accuracy is 1.0\n"
          ],
          "name": "stdout"
        }
      ]
    },
    {
      "cell_type": "code",
      "metadata": {
        "id": "iuPpNtbBR4Aj"
      },
      "source": [
        "#USING DECISION TREE ALGORITHM\n",
        "from sklearn.tree import DecisionTreeClassifier"
      ],
      "execution_count": null,
      "outputs": []
    },
    {
      "cell_type": "code",
      "metadata": {
        "id": "xeAeoDFGSp1w"
      },
      "source": [
        "dtc = DecisionTreeClassifier()"
      ],
      "execution_count": null,
      "outputs": []
    },
    {
      "cell_type": "code",
      "metadata": {
        "id": "tmfERjK2StQd"
      },
      "source": [
        "\n",
        "dtc.fit(x_train, y_train)"
      ],
      "execution_count": null,
      "outputs": []
    },
    {
      "cell_type": "code",
      "metadata": {
        "id": "F0ROQEtLSyaA"
      },
      "source": [
        "y_pred = dtc.predict(x_test)"
      ],
      "execution_count": null,
      "outputs": []
    },
    {
      "cell_type": "code",
      "metadata": {
        "id": "3kF36PR_S5yU"
      },
      "source": [
        "y_test"
      ],
      "execution_count": null,
      "outputs": []
    },
    {
      "cell_type": "code",
      "metadata": {
        "id": "Wn3k0ZIATCnv"
      },
      "source": [
        "from sklearn.metrics import confusion_matrix,accuracy_score"
      ],
      "execution_count": null,
      "outputs": []
    },
    {
      "cell_type": "code",
      "metadata": {
        "colab": {
          "base_uri": "https://localhost:8080/"
        },
        "id": "z44xJSddTIIG",
        "outputId": "46ff13a0-cc8c-4343-a93e-b1fe4475773e"
      },
      "source": [
        "confusion_matrix(y_test,y_pred)"
      ],
      "execution_count": null,
      "outputs": [
        {
          "output_type": "execute_result",
          "data": {
            "text/plain": [
              "array([[11,  0,  0],\n",
              "       [ 0, 13,  0],\n",
              "       [ 0,  1,  5]])"
            ]
          },
          "metadata": {
            "tags": []
          },
          "execution_count": 55
        }
      ]
    },
    {
      "cell_type": "code",
      "metadata": {
        "colab": {
          "base_uri": "https://localhost:8080/"
        },
        "id": "kthxC9qjTLX0",
        "outputId": "e5693f12-8752-49b3-bd99-39d308f3dd31"
      },
      "source": [
        "accuracy_score(y_test,y_pred)\n"
      ],
      "execution_count": null,
      "outputs": [
        {
          "output_type": "execute_result",
          "data": {
            "text/plain": [
              "0.9666666666666667"
            ]
          },
          "metadata": {
            "tags": []
          },
          "execution_count": 56
        }
      ]
    },
    {
      "cell_type": "code",
      "metadata": {
        "id": "9jlxGLlia8W4"
      },
      "source": [
        "#Here we can see the accuracy of the data in KNN and DECISION TREE ALGORIHTM\n"
      ],
      "execution_count": null,
      "outputs": []
    },
    {
      "cell_type": "markdown",
      "metadata": {
        "id": "dbTlYeawdejW"
      },
      "source": [
        "![Screenshot (568).png](data:image/png;base64,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)"
      ]
    },
    {
      "cell_type": "code",
      "metadata": {
        "id": "Q33GFC62dd6Y"
      },
      "source": [
        "#THANK YOU"
      ],
      "execution_count": null,
      "outputs": []
    }
  ]
}